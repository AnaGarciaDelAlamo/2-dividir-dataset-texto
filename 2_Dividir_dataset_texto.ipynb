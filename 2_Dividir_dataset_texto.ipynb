{
  "nbformat": 4,
  "nbformat_minor": 0,
  "metadata": {
    "colab": {
      "provenance": [],
      "gpuType": "T4",
      "mount_file_id": "19phd_O56t5ZWuaubgmNyQWVrrzU_wMP-",
      "authorship_tag": "ABX9TyOOm61apY7zhoVVcwvkcT1d",
      "include_colab_link": true
    },
    "kernelspec": {
      "name": "python3",
      "display_name": "Python 3"
    },
    "language_info": {
      "name": "python"
    },
    "accelerator": "GPU"
  },
  "cells": [
    {
      "cell_type": "markdown",
      "metadata": {
        "id": "view-in-github",
        "colab_type": "text"
      },
      "source": [
        "<a href=\"https://colab.research.google.com/github/AnaGarciaDelAlamo/dividir-dataset-texto/blob/main/2_Dividir_dataset_texto.ipynb\" target=\"_parent\"><img src=\"https://colab.research.google.com/assets/colab-badge.svg\" alt=\"Open In Colab\"/></a>"
      ]
    },
    {
      "cell_type": "markdown",
      "source": [
        "2.- Traductor"
      ],
      "metadata": {
        "id": "FpyZd2GM6T6B"
      }
    },
    {
      "cell_type": "code",
      "source": [
        "#para simplificar el problema, vamos a reducir el dataset a los primeros 10000 ejemplos\n",
        "#tomaremos 9000 para entrenar el modelo y 1000 para trastearlo"
      ],
      "metadata": {
        "id": "CUOs0X296CNA"
      },
      "execution_count": null,
      "outputs": []
    },
    {
      "cell_type": "code",
      "execution_count": null,
      "metadata": {
        "id": "vOqSiZbi5xk6"
      },
      "outputs": [],
      "source": [
        "from pickle import load\n",
        "from pickle import dump\n",
        "from numpy.random import shuffle"
      ]
    },
    {
      "cell_type": "code",
      "source": [
        "#Método para cargar el dataset limpio\n",
        "def load_clean_sentences(filename):\n",
        "  return load(open(filename, 'rb'))"
      ],
      "metadata": {
        "id": "4IzsDLTC6Za_"
      },
      "execution_count": null,
      "outputs": []
    },
    {
      "cell_type": "code",
      "source": [
        "#Método para salvar una lista de frases limpias al archivo\n",
        "def save_clean_data(sentences, filename):\n",
        "  dump(sentences, open(filename, 'wb'))\n",
        "  print('Saved: %s' % filename)"
      ],
      "metadata": {
        "id": "FX1YatEs6k9d"
      },
      "execution_count": null,
      "outputs": []
    },
    {
      "cell_type": "code",
      "source": [
        "#cargamos el dataset\n",
        "raw_dataset = load_clean_sentences('/content/drive/MyDrive/Datos Nuevas Tecnologías/english-german.pkl')"
      ],
      "metadata": {
        "id": "mOsYC6uf6yww"
      },
      "execution_count": null,
      "outputs": []
    },
    {
      "cell_type": "code",
      "source": [
        "#reducimos el tamaño del dataset\n",
        "n_sentences = 10000\n",
        "dataset = raw_dataset[:n_sentences, :]"
      ],
      "metadata": {
        "id": "dhZcr6-j65Ke"
      },
      "execution_count": null,
      "outputs": []
    },
    {
      "cell_type": "code",
      "source": [
        "#barajamos los datos\n",
        "shuffle(dataset)"
      ],
      "metadata": {
        "id": "LH1i0C_S7KsS"
      },
      "execution_count": null,
      "outputs": []
    },
    {
      "cell_type": "code",
      "source": [
        "#dividimos entre entrenamiento y test\n",
        "train, test = dataset[:9000], dataset[9000:]"
      ],
      "metadata": {
        "id": "R8adMePu7WAd"
      },
      "execution_count": null,
      "outputs": []
    },
    {
      "cell_type": "code",
      "source": [
        "for i in range(5):\n",
        "  print(train[i])"
      ],
      "metadata": {
        "colab": {
          "base_uri": "https://localhost:8080/"
        },
        "id": "ZTiYEYnG74MN",
        "outputId": "ceedeb36-ba45-4c16-baf3-c18950ab5101"
      },
      "execution_count": null,
      "outputs": [
        {
          "output_type": "stream",
          "name": "stdout",
          "text": [
            "['can i ask why' 'darf ich fragen warum'\n",
            " 'ccby france attribution tatoebaorg cm esperantostern']\n",
            "['we cant go' 'wir konnen nicht gehen'\n",
            " 'ccby france attribution tatoebaorg ck']\n",
            "['im leaving' 'ich gehe' 'ccby france attribution tatoebaorg robroy']\n",
            "['she was naive' 'sie war naiv'\n",
            " 'ccby france attribution tatoebaorg spamster pfirsichbaeumchen']\n",
            "['i now know why' 'jetzt wei ich warum'\n",
            " 'ccby france attribution tatoebaorg ck pfirsichbaeumchen']\n"
          ]
        }
      ]
    },
    {
      "cell_type": "code",
      "source": [
        "#guardamos los datos\n",
        "save_clean_data(dataset, '/content/drive/MyDrive/Datos Nuevas Tecnologías/english-german-both.pkl')\n",
        "save_clean_data(train, '/content/drive/MyDrive/Datos Nuevas Tecnologías/english-german-train.pkl')\n",
        "save_clean_data(test, '/content/drive/MyDrive/Datos Nuevas Tecnologías/english-german-test.pkl')"
      ],
      "metadata": {
        "colab": {
          "base_uri": "https://localhost:8080/"
        },
        "id": "RzNukKgt8LQs",
        "outputId": "816dccd3-3f39-44f4-d29c-a358a2d52566"
      },
      "execution_count": null,
      "outputs": [
        {
          "output_type": "stream",
          "name": "stdout",
          "text": [
            "Saved: /content/drive/MyDrive/Datos Nuevas Tecnologías/english-german-both.pkl\n",
            "Saved: /content/drive/MyDrive/Datos Nuevas Tecnologías/english-german-train.pkl\n",
            "Saved: /content/drive/MyDrive/Datos Nuevas Tecnologías/english-german-test.pkl\n"
          ]
        }
      ]
    }
  ]
}